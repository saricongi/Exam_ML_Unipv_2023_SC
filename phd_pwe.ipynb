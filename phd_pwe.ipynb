{
  "nbformat": 4,
  "nbformat_minor": 0,
  "metadata": {
    "colab": {
      "provenance": [],
      "include_colab_link": true
    },
    "kernelspec": {
      "name": "python3",
      "display_name": "Python 3"
    },
    "language_info": {
      "name": "python"
    }
  },
  "cells": [
    {
      "cell_type": "markdown",
      "metadata": {
        "id": "view-in-github",
        "colab_type": "text"
      },
      "source": [
        "<a href=\"https://colab.research.google.com/github/saricongi/Exam_ML_Unipv_2023_SC/blob/master/phd_pwe.ipynb\" target=\"_parent\"><img src=\"https://colab.research.google.com/assets/colab-badge.svg\" alt=\"Open In Colab\"/></a>"
      ]
    },
    {
      "cell_type": "markdown",
      "source": [
        "# Plane wave expansion for a 2D photonic crystal\n",
        "\n",
        "Here is the [original version of legume](https://github.com/fancompute/legume) by Momchil Minkov et al, with the [full documentation](https://legume.readthedocs.io/en/latest/) and the [original examples](https://github.com/fancompute/legume/tree/master/docs/examples)\n",
        "\n",
        "Taken from example 02 of `legume`, modified by Lucio Andreani and Simone Zanotti\n",
        "for the PhD course \"Photonics: theory and computational methods\", Physics Department - University of Pavia, February 2024"
      ],
      "metadata": {
        "id": "P9-FPzw4D3-B"
      }
    },
    {
      "cell_type": "markdown",
      "source": [
        "# Install legume\n",
        "\n",
        "Install the latest version of legume from Simone Zanotti's repository"
      ],
      "metadata": {
        "id": "LVfh-486D_Au"
      }
    },
    {
      "cell_type": "code",
      "execution_count": 1,
      "metadata": {
        "id": "jrEPfclzTsdW",
        "colab": {
          "base_uri": "https://localhost:8080/"
        },
        "outputId": "e82c5f53-5e26-45ce-efc5-92cfbb90dbb3"
      },
      "outputs": [
        {
          "output_type": "stream",
          "name": "stdout",
          "text": [
            "Cloning into 'legume'...\n",
            "remote: Enumerating objects: 2414, done.\u001b[K\n",
            "remote: Counting objects: 100% (336/336), done.\u001b[K\n",
            "remote: Compressing objects: 100% (100/100), done.\u001b[K\n",
            "remote: Total 2414 (delta 278), reused 270 (delta 233), pack-reused 2078\u001b[K\n",
            "Receiving objects: 100% (2414/2414), 17.08 MiB | 25.17 MiB/s, done.\n",
            "Resolving deltas: 100% (1679/1679), done.\n"
          ]
        }
      ],
      "source": [
        "!git clone https://github.com/Zano1995/legume.git"
      ]
    },
    {
      "cell_type": "markdown",
      "source": [
        "Switch to the newest branch with symmetrization and polaritons"
      ],
      "metadata": {
        "id": "2lc4OPXmESNZ"
      }
    },
    {
      "cell_type": "code",
      "source": [
        "%cd legume\n",
        "#!git checkout symm_and_polariton\n",
        "!git checkout symm_update\n",
        "%cd .."
      ],
      "metadata": {
        "id": "E9Babv4XUIqP",
        "colab": {
          "base_uri": "https://localhost:8080/"
        },
        "outputId": "e4ad6a37-567a-4e92-a7f7-a20574de2bf0"
      },
      "execution_count": 2,
      "outputs": [
        {
          "output_type": "stream",
          "name": "stdout",
          "text": [
            "/content/legume\n",
            "Branch 'symm_update' set up to track remote branch 'symm_update' from 'origin'.\n",
            "Switched to a new branch 'symm_update'\n",
            "/content\n"
          ]
        }
      ]
    },
    {
      "cell_type": "code",
      "source": [
        "import sys\n",
        "sys.path.append(\"/content/legume\")\n",
        "import legume\n",
        "print(f\"Version of the imported legume : {legume.__version__}\")\n",
        "\n",
        "import numpy as np\n",
        "import matplotlib.pyplot as plt\n",
        "from google.colab import files\n",
        "from legume import PlaneWaveExp, Circle, ShapesLayer, Lattice, viz"
      ],
      "metadata": {
        "id": "21sd2KrpVpKj",
        "colab": {
          "base_uri": "https://localhost:8080/"
        },
        "outputId": "fdd95499-0179-4713-927e-b8d0f667503a"
      },
      "execution_count": 3,
      "outputs": [
        {
          "output_type": "stream",
          "name": "stdout",
          "text": [
            "Version of the imported legume : 1.0.1\n"
          ]
        }
      ]
    },
    {
      "cell_type": "markdown",
      "source": [
        "# Example 1: compare the photonic bands with Joannopoulos' book\n",
        "\n",
        "Define 2D photonic crystal¶\n",
        "\n",
        "In this example we will reproduce the modes for one of the structures discussed in Chapter 5 from \"Photonic Crystals: Molding the Flow of Light\" - the photonic crystal bible by John D. Joannopoulos, Steven Johnson, Joshua Winn and Robert Meade.\n",
        "\n"
      ],
      "metadata": {
        "id": "JXalZBhqEee1"
      }
    },
    {
      "cell_type": "code",
      "source": [
        "# Define parameters as for Chapter 5, Fig. 2 from Molding the Flow of Light:\n",
        "# square lattice of dielectric columns, epsilon=8.9, r/a=0.2\n",
        "ra = 0.2      # cylinder radius\n",
        "eps_c = 8.9   # cylinder permittivity\n",
        "eps_b = 1\n",
        "#eps_c, eps_b = 1, 12\n",
        "\n",
        "# Initialize lattice\n",
        "lattice = Lattice('square')   # possible values are 'square', 'hexagonal', or custom with a pair of Bravais lattice vectors\n",
        "# Initialize layer\n",
        "layer = ShapesLayer(lattice, eps_b = eps_b)\n",
        "# Add a cylinder to the layer\n",
        "layer.add_shape(Circle(r=ra, eps=eps_c))\n",
        "#layer.add_shape(Circle(r=ra, eps=eps_c, x_cent=0.2, y_cent=0.3))  # here if you want to give coordinates different from zero\n",
        "# Visualize the structure\n",
        "viz.eps(layer, cbar=True, cmap='viridis')\n",
        "\n",
        "#avoid overlap between shapes, the code does not work!"
      ],
      "metadata": {
        "id": "ygh9KfRm14Fy",
        "outputId": "6fdc1b3c-3a34-45db-a6a5-c79748e4ce1a",
        "colab": {
          "base_uri": "https://localhost:8080/",
          "height": 508
        }
      },
      "execution_count": 6,
      "outputs": [
        {
          "output_type": "display_data",
          "data": {
            "text/plain": [
              "<Figure size 640x480 with 2 Axes>"
            ],
            "image/png": "[encoded data removed]"
          },
          "metadata": {}
        }
      ]
    },
    {
      "cell_type": "code",
      "source": [
        "# Initialize the BZ bath as in Chapter 5, Fig. 2\n",
        "path = lattice.bz_path(['G', 'X', 'M', 'G'], [20]) # this is a dictionary with the wavevectors in the BZ\n",
        "#path = lattice.bz_path(['G', 'M', 'K', 'G'], [20]) # this is a dictionary with the wavevectors in the BZ\n",
        "\n",
        "#print(path['kpoints'])\n",
        "\n",
        "# Initialize the plane-wave expansion and visualize the FT of the structure\n",
        "pwe = PlaneWaveExp(layer, gmax=6)\n",
        "npw = np.shape(pwe.gvec)[1]  # number of plane waves in the expansion\n",
        "print('npw = ', npw)\n",
        "\n",
        "# viz.eps_ft(pwe, figsize = (4, 3), cmap='viridis')"
      ],
      "metadata": {
        "id": "GD15NNqp2RDV"
      },
      "execution_count": null,
      "outputs": []
    },
    {
      "cell_type": "markdown",
      "source": [
        "Examine reciprocal lattice vectors and put them in order of increasing modulus"
      ],
      "metadata": {
        "id": "MqA5eJaKUxzf"
      }
    },
    {
      "cell_type": "code",
      "source": [
        "# finds moduli of reciprocal lattice vectors in the expansion\n",
        "gmod_list = []\n",
        "for j in range(npw):\n",
        "  #gx, gy = pwe.gvec[0, j], pwe.gvec[1,j]\n",
        "  gx, gy = pwe.gvec[0, j]/2/np.pi, pwe.gvec[1,j]/2/np.pi\n",
        "  gmod = np.sqrt(gx*gx+gy*gy)\n",
        "  gmod_list.append(gmod)\n",
        "\n",
        "gmod_list.sort()\n",
        "for j in range(npw):\n",
        "  print(j+1, gmod_list[j])\n",
        "\n"
      ],
      "metadata": {
        "id": "qkjg4q5DUxF3"
      },
      "execution_count": null,
      "outputs": []
    },
    {
      "cell_type": "markdown",
      "source": [
        "Compute the photonic bands"
      ],
      "metadata": {
        "id": "EyFLX0IoEvMX"
      }
    },
    {
      "cell_type": "code",
      "source": [
        "# Run the plane-wave expansion for the two separate polarizations and store the bands\n",
        "pwe.run(kpoints=path['kpoints'], pol='te')\n",
        "freqs_te = pwe.freqs\n",
        "nkappa, nfreq = freqs_te.shape[0], freqs_te.shape[1]\n",
        "print('nkappa, nfreq = ', nkappa, nfreq)\n",
        "pwe.run(kpoints=path['kpoints'], pol='tm')\n",
        "freqs_tm = pwe.freqs\n",
        "\n",
        "# Plot the results\n",
        "fig, ax = plt.subplots(1, constrained_layout=True, figsize=(5, 4))\n",
        "kappa = range(nkappa)\n",
        "for j in range(nfreq):\n",
        "  if (j == 0):\n",
        "    plt.plot(kappa, freqs_te[:,j], 'r', label='TE')\n",
        "    plt.plot(kappa, freqs_tm[:,j], 'b', label='TM')\n",
        "  else:\n",
        "    plt.plot(kappa, freqs_te[:,j], 'r')\n",
        "    plt.plot(kappa, freqs_tm[:,j], 'b')\n",
        "ax.set_ylim([0, 0.8])\n",
        "ax.set_xlim([0, pwe.freqs.shape[0]-1])\n",
        "ax.set_ylabel(\"$\\omega a/2\\pi c$\")\n",
        "plt.legend()\n",
        "\n",
        "# The `path` dict provides some useful functionality for labeling of the BZ path\n",
        "plt.xticks(path['indexes'], path['labels'])\n",
        "ax.xaxis.grid('True')\n",
        "\n",
        "#plt.savefig(\"bands.png\")\n",
        "#files.download(\"bands.png\")\n",
        "#plt.show()"
      ],
      "metadata": {
        "id": "dV8zwnKmtmO-"
      },
      "execution_count": null,
      "outputs": []
    },
    {
      "cell_type": "markdown",
      "source": [
        "Visualize the field of a mode\n",
        "\n",
        "We can also plot the fields and compare to Fig. 3 of the book. Note that all fields are always continuous in wave-expansion methods, but the discontinuities are captured better and better with increasing the truncation of the Fourier basis (here by increasing gmax)."
      ],
      "metadata": {
        "id": "Zb5AdJe2E-jd"
      }
    },
    {
      "cell_type": "code",
      "source": [
        "# Compare to Chapter 5, Fig. 3, middle row\n",
        "viz.field(pwe, field='d', kind=20, mind=0,\n",
        "            component='z', val='im', N1=100, N2=100, cbar=True, eps=True);\n",
        "viz.field(pwe, field='d', kind=20, mind=1,\n",
        "          component='z', val='re', N1=100, N2=100, cbar=True, eps=True);"
      ],
      "metadata": {
        "id": "kQbJIITv5vb0"
      },
      "execution_count": null,
      "outputs": []
    },
    {
      "cell_type": "markdown",
      "source": [
        "Exercise: compare with the structure of Ch. 5, Figure 5 (square lattice of dielectric veins with $\\varepsilon=8.9$ and $t=0.165a$)\n",
        "\n",
        "Suggestion: download the figure and import in powerpoint to compare"
      ],
      "metadata": {
        "id": "-SKBBzq83DZT"
      }
    },
    {
      "cell_type": "markdown",
      "source": [
        "# Example 2: PWE convergence test, scaling of simulation time"
      ],
      "metadata": {
        "id": "2UJ4QqheNvlM"
      }
    },
    {
      "cell_type": "code",
      "source": [
        "# Define parameters as for Chapter 5, Fig. 2 from Molding the Flow of Light\n",
        "ra = 0.2      # cylinder radius\n",
        "eps_c, eps_b = 8.9, 1 # cylinder and background permittivity\n",
        "\n",
        "# Initialize lattice\n",
        "lattice = Lattice('square')\n",
        "# Initialize layer\n",
        "layer = ShapesLayer(lattice, eps_b = eps_b)\n",
        "# Add a cylinder to the layer\n",
        "layer.add_shape(Circle(r=ra, eps=eps_c))\n",
        "\n",
        "# Initialize the BZ bath as in Chapter 5, Fig. 2\n",
        "path = lattice.bz_path(['G', 'X', 'M', 'G'], [10, 10, 14]) # this is a dictionary with the wavevectors in the BZ\n",
        "#path = lattice.bz_path(['G', 'M', 'K', 'G'], [20]) # this is a dictionary with the wavevectors in the BZ\n",
        "#print(path['kpoints'])\n",
        "# The `path` dict provides some useful functionality for labeling of the BZ path"
      ],
      "metadata": {
        "id": "egwslJbkFVug"
      },
      "execution_count": null,
      "outputs": []
    },
    {
      "cell_type": "code",
      "source": [
        "# define the function to be run in a loop with gmax as a parameter\n",
        "def run (gmax):\n",
        "  pwe = PlaneWaveExp(layer, gmax=gmax)\n",
        "  npw = np.shape(pwe.gvec)[1]  # number of plane waves in the expansion\n",
        "\n",
        "  # Run the plane-wave expansion for the two separate polarizations and store the bands\n",
        "  pwe.run(kpoints=path['kpoints'], pol='te')\n",
        "  freqs_te = pwe.freqs\n",
        "  pwe.run(kpoints=path['kpoints'], pol='tm')\n",
        "  freqs_tm = pwe.freqs\n",
        "\n",
        "  return npw, freqs_te, freqs_tm"
      ],
      "metadata": {
        "id": "dm43-YEJOLN5"
      },
      "execution_count": null,
      "outputs": []
    },
    {
      "cell_type": "code",
      "source": [
        "# driver: loop as a function of gmax to check convergence\n",
        "# in the next cells we plot the bands and the computing time as a function of the number of plane waves\n",
        "\n",
        "gmax_list = [5, 7, 10]\n",
        "ngmax = np.shape(gmax_list)[0]\n",
        "print('ngmax=',ngmax)\n",
        "import time\n",
        "\n",
        "npw_list, freqs_te_list, freqs_tm_list, time_list = [], [], [], []\n",
        "for gmax in gmax_list:\n",
        "  t0 = time.time()\n",
        "  npw, freqs_te, freqs_tm = run(gmax)\n",
        "  t1=time.time()\n",
        "  print('gmax, npw, time = ', gmax, npw, t1-t0)\n",
        "  time_list.append(t1-t0)\n",
        "  npw_list.append(npw)\n",
        "  freqs_te_list.append(freqs_te)\n",
        "  freqs_tm_list.append(freqs_tm)\n",
        "\n",
        "print(npw_list, time_list)"
      ],
      "metadata": {
        "id": "Ywe02j-IO2pN"
      },
      "execution_count": null,
      "outputs": []
    },
    {
      "cell_type": "code",
      "source": [
        "# Plot the results\n",
        "fig, ax = plt.subplots(nrows=1, ncols=ngmax, constrained_layout=True, figsize=(4*ngmax, 3))\n",
        "for j in range(ngmax):\n",
        "  ax[j].plot(freqs_te_list[j], 'r')\n",
        "  ax[j].plot(freqs_tm_list[j], 'b')\n",
        "  ax[j].set_ylim([0, 0.8])\n",
        "  ax[j].set_xlim([0, freqs_te.shape[0]-1])\n",
        "  ax[j].set_ylabel(\"$\\omega a/2\\pi c$\")\n",
        "  ax[j].xaxis.grid('True')\n",
        "  ax[j].set_xticks(path['indexes'], path['labels'])"
      ],
      "metadata": {
        "id": "C6YTsWl_XhsC"
      },
      "execution_count": null,
      "outputs": []
    },
    {
      "cell_type": "code",
      "source": [
        "# this is the scaling with the number of plane waves\n",
        "\n",
        "plt.figure(figsize=(5,4))\n",
        "plt.plot(npw_list, time_list, 'o-')\n",
        "x=np.arange(1000)\n",
        "y2 = 1e-4*x**2\n",
        "y3 = 1e-6*x**3\n",
        "y4 = 1e-8*x**4\n",
        "plt.plot(x, y2, label = '$x^2$', color='red')\n",
        "plt.plot(x, y3, label = '$x^3$', color='blue')\n",
        "plt.plot(x, y4, label = '$x^4$', color='green')\n",
        "plt.xscale('log')\n",
        "plt.yscale('log')\n",
        "plt.xlim(100, 1000)\n",
        "plt.ylim(0.5, 500)\n",
        "plt.legend()"
      ],
      "metadata": {
        "id": "pEeEr0ebQZfp"
      },
      "execution_count": null,
      "outputs": []
    },
    {
      "cell_type": "markdown",
      "source": [
        "Exercise: test convergence with lower/higher number of plane waves\n",
        "\n",
        "Test convergence separately for TE or TM modes"
      ],
      "metadata": {
        "id": "H_gPx0Y455wz"
      }
    },
    {
      "cell_type": "markdown",
      "source": [
        "# Example 3: search for complete photonic bandgap"
      ],
      "metadata": {
        "id": "vJt0J81aYhBJ"
      }
    },
    {
      "cell_type": "code",
      "source": [
        "# define the function to be run, with all data as function parameters\n",
        "def run_pwe (lattice, ra, eps_c, eps_b, gmax, path):\n",
        "  # Initialize layer\n",
        "  layer = ShapesLayer(lattice, eps_b = eps_b)\n",
        "  # Add a cylinder to the layer\n",
        "  layer.add_shape(Circle(r=ra, eps=eps_c))\n",
        "  pwe = PlaneWaveExp(layer, gmax=gmax)\n",
        "  npw = np.shape(pwe.gvec)[1]  # number of plane waves in the expansion\n",
        "\n",
        "  # Run the plane-wave expansion for the two separate polarizations and store the bands\n",
        "  pwe.run(kpoints=path['kpoints'], pol='te')\n",
        "  freqs_te = pwe.freqs\n",
        "  pwe.run(kpoints=path['kpoints'], pol='tm')\n",
        "  freqs_tm = pwe.freqs\n",
        "\n",
        "  return npw, freqs_te, freqs_tm"
      ],
      "metadata": {
        "id": "xtJVwQ0YYtaB"
      },
      "execution_count": null,
      "outputs": []
    },
    {
      "cell_type": "code",
      "source": [
        "# driver: defines the parameters and runs pwe\n",
        "bravais_lattice = 'hexagonal'\n",
        "lattice = Lattice(bravais_lattice)\n",
        "ra = 0.45      # cylinder radius\n",
        "eps_c, eps_b = 1, 12 # cylinder and background permittivity\n",
        "#path = ['G', 'X', 'M', 'G']\n",
        "kpath = ['G', 'M', 'K', 'G']\n",
        "nk = 20\n",
        "nkpath = [nk]\n",
        "path = lattice.bz_path(kpath, nkpath) # this is a dictionary with the wavevectors in the BZ\n",
        "gmax = 7\n",
        "\n",
        "npw, freqs_te, freqs_tm = run_pwe (lattice, ra, eps_c, eps_b, gmax, path)"
      ],
      "metadata": {
        "id": "P7Z9tJ_AZbol"
      },
      "execution_count": null,
      "outputs": []
    },
    {
      "cell_type": "code",
      "source": [
        "# Plot the results\n",
        "\n",
        "fig, ax = plt.subplots(1, 2, constrained_layout=True, figsize=(8, 4))\n",
        "kappa = range(nkappa)\n",
        "for j in range(nfreq):\n",
        "  if (j == 0):\n",
        "    ax[0].plot(kappa, freqs_te[:,j], 'r', label='TE')\n",
        "    ax[1].plot(kappa, freqs_tm[:,j], 'b', label='TM')\n",
        "  else:\n",
        "    ax[0].plot(kappa, freqs_te[:,j], 'r')\n",
        "    ax[1].plot(kappa, freqs_tm[:,j], 'b')\n",
        "ax[0].set_ylim([0., 0.7])\n",
        "ax[0].set_xlim([0, pwe.freqs.shape[0]-1])\n",
        "ax[0].set_ylabel(\"$\\omega a/2\\pi c$\")\n",
        "ax[1].set_ylim([0., 0.7])\n",
        "ax[1].set_xlim([0, pwe.freqs.shape[0]-1])\n",
        "ax[1].set_ylabel(\"$\\omega a/2\\pi c$\")\n",
        "ax[0].legend(loc='lower center')\n",
        "ax[1].legend(loc='lower center')\n",
        "\n",
        "# The `path` dict provides some useful functionality for labeling of the BZ path\n",
        "ax[0].set_xticks(path['indexes'], path['labels'])\n",
        "ax[0].xaxis.grid('True')\n",
        "ax[1].set_xticks(path['indexes'], path['labels'])\n",
        "ax[1].xaxis.grid('True')\n"
      ],
      "metadata": {
        "id": "MM7JVkUniS2Q"
      },
      "execution_count": null,
      "outputs": []
    },
    {
      "cell_type": "code",
      "source": [
        "# calculate band gaps\n",
        "# the proper expressions should be specified case by case\n",
        "w1_te, w2_te = freqs_te[2*nk,0], freqs_te[nk,1]\n",
        "gap_te = w2_te-w1_te\n",
        "\n",
        "w1_tm, w2_tm = freqs_tm[0, 1], freqs_tm[2*nk,2]\n",
        "gap_tm = w2_tm-w1_tm\n",
        "\n",
        "print('w1_te, w2_te, gap_te = ', w1_te, w2_te, gap_te)\n",
        "print('w1_tm, w2_tm, gap_tm = ', w1_tm, w2_tm, gap_tm)"
      ],
      "metadata": {
        "id": "NxlpdzqSebCw"
      },
      "execution_count": null,
      "outputs": []
    },
    {
      "cell_type": "code",
      "source": [
        "Exercise:\n",
        "\n",
        "1) Look for opening of a photonic band gap in the triangular lattice as a function of r/a\n",
        "\n",
        "2) Automatize the procedure, by making a loop as a function of r/a and storing gap edges in a list"
      ],
      "metadata": {
        "id": "TEXEMiFU6G4Y"
      },
      "execution_count": null,
      "outputs": []
    }
  ]
}